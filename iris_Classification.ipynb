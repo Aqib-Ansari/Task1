{
  "cells": [
    {
      "attachments": {},
      "cell_type": "markdown",
      "metadata": {},
      "source": [
        "# Importing Libraries"
      ]
    },
    {
      "cell_type": "code",
      "execution_count": 1,
      "metadata": {
        "id": "V0ecrn6k0Xca"
      },
      "outputs": [],
      "source": [
        "import numpy as np\n",
        "import pandas as pd\n"
      ]
    },
    {
      "attachments": {},
      "cell_type": "markdown",
      "metadata": {},
      "source": [
        "## Importing Dataset"
      ]
    },
    {
      "cell_type": "code",
      "execution_count": 2,
      "metadata": {
        "id": "RKUSb5pvFanA"
      },
      "outputs": [],
      "source": [
        "dataset = pd.read_csv(\"Iris.csv\")"
      ]
    },
    {
      "cell_type": "code",
      "execution_count": 3,
      "metadata": {
        "colab": {
          "base_uri": "https://localhost:8080/",
          "height": 206
        },
        "id": "zNm7vHQeFfPB",
        "outputId": "bd7e452a-27d4-43c9-bb2d-0468dc2237cb"
      },
      "outputs": [
        {
          "data": {
            "text/html": [
              "\n",
              "  <div id=\"df-3a7b46c3-6190-4601-879a-68df66823850\">\n",
              "    <div class=\"colab-df-container\">\n",
              "      <div>\n",
              "<style scoped>\n",
              "    .dataframe tbody tr th:only-of-type {\n",
              "        vertical-align: middle;\n",
              "    }\n",
              "\n",
              "    .dataframe tbody tr th {\n",
              "        vertical-align: top;\n",
              "    }\n",
              "\n",
              "    .dataframe thead th {\n",
              "        text-align: right;\n",
              "    }\n",
              "</style>\n",
              "<table border=\"1\" class=\"dataframe\">\n",
              "  <thead>\n",
              "    <tr style=\"text-align: right;\">\n",
              "      <th></th>\n",
              "      <th>Id</th>\n",
              "      <th>SepalLengthCm</th>\n",
              "      <th>SepalWidthCm</th>\n",
              "      <th>PetalLengthCm</th>\n",
              "      <th>PetalWidthCm</th>\n",
              "      <th>Species</th>\n",
              "    </tr>\n",
              "  </thead>\n",
              "  <tbody>\n",
              "    <tr>\n",
              "      <th>0</th>\n",
              "      <td>1</td>\n",
              "      <td>5.1</td>\n",
              "      <td>3.5</td>\n",
              "      <td>1.4</td>\n",
              "      <td>0.2</td>\n",
              "      <td>Iris-setosa</td>\n",
              "    </tr>\n",
              "    <tr>\n",
              "      <th>1</th>\n",
              "      <td>2</td>\n",
              "      <td>4.9</td>\n",
              "      <td>3.0</td>\n",
              "      <td>1.4</td>\n",
              "      <td>0.2</td>\n",
              "      <td>Iris-setosa</td>\n",
              "    </tr>\n",
              "    <tr>\n",
              "      <th>2</th>\n",
              "      <td>3</td>\n",
              "      <td>4.7</td>\n",
              "      <td>3.2</td>\n",
              "      <td>1.3</td>\n",
              "      <td>0.2</td>\n",
              "      <td>Iris-setosa</td>\n",
              "    </tr>\n",
              "    <tr>\n",
              "      <th>3</th>\n",
              "      <td>4</td>\n",
              "      <td>4.6</td>\n",
              "      <td>3.1</td>\n",
              "      <td>1.5</td>\n",
              "      <td>0.2</td>\n",
              "      <td>Iris-setosa</td>\n",
              "    </tr>\n",
              "    <tr>\n",
              "      <th>4</th>\n",
              "      <td>5</td>\n",
              "      <td>5.0</td>\n",
              "      <td>3.6</td>\n",
              "      <td>1.4</td>\n",
              "      <td>0.2</td>\n",
              "      <td>Iris-setosa</td>\n",
              "    </tr>\n",
              "  </tbody>\n",
              "</table>\n",
              "</div>\n",
              "      <button class=\"colab-df-convert\" onclick=\"convertToInteractive('df-3a7b46c3-6190-4601-879a-68df66823850')\"\n",
              "              title=\"Convert this dataframe to an interactive table.\"\n",
              "              style=\"display:none;\">\n",
              "        \n",
              "  <svg xmlns=\"http://www.w3.org/2000/svg\" height=\"24px\"viewBox=\"0 0 24 24\"\n",
              "       width=\"24px\">\n",
              "    <path d=\"M0 0h24v24H0V0z\" fill=\"none\"/>\n",
              "    <path d=\"M18.56 5.44l.94 2.06.94-2.06 2.06-.94-2.06-.94-.94-2.06-.94 2.06-2.06.94zm-11 1L8.5 8.5l.94-2.06 2.06-.94-2.06-.94L8.5 2.5l-.94 2.06-2.06.94zm10 10l.94 2.06.94-2.06 2.06-.94-2.06-.94-.94-2.06-.94 2.06-2.06.94z\"/><path d=\"M17.41 7.96l-1.37-1.37c-.4-.4-.92-.59-1.43-.59-.52 0-1.04.2-1.43.59L10.3 9.45l-7.72 7.72c-.78.78-.78 2.05 0 2.83L4 21.41c.39.39.9.59 1.41.59.51 0 1.02-.2 1.41-.59l7.78-7.78 2.81-2.81c.8-.78.8-2.07 0-2.86zM5.41 20L4 18.59l7.72-7.72 1.47 1.35L5.41 20z\"/>\n",
              "  </svg>\n",
              "      </button>\n",
              "      \n",
              "  <style>\n",
              "    .colab-df-container {\n",
              "      display:flex;\n",
              "      flex-wrap:wrap;\n",
              "      gap: 12px;\n",
              "    }\n",
              "\n",
              "    .colab-df-convert {\n",
              "      background-color: #E8F0FE;\n",
              "      border: none;\n",
              "      border-radius: 50%;\n",
              "      cursor: pointer;\n",
              "      display: none;\n",
              "      fill: #1967D2;\n",
              "      height: 32px;\n",
              "      padding: 0 0 0 0;\n",
              "      width: 32px;\n",
              "    }\n",
              "\n",
              "    .colab-df-convert:hover {\n",
              "      background-color: #E2EBFA;\n",
              "      box-shadow: 0px 1px 2px rgba(60, 64, 67, 0.3), 0px 1px 3px 1px rgba(60, 64, 67, 0.15);\n",
              "      fill: #174EA6;\n",
              "    }\n",
              "\n",
              "    [theme=dark] .colab-df-convert {\n",
              "      background-color: #3B4455;\n",
              "      fill: #D2E3FC;\n",
              "    }\n",
              "\n",
              "    [theme=dark] .colab-df-convert:hover {\n",
              "      background-color: #434B5C;\n",
              "      box-shadow: 0px 1px 3px 1px rgba(0, 0, 0, 0.15);\n",
              "      filter: drop-shadow(0px 1px 2px rgba(0, 0, 0, 0.3));\n",
              "      fill: #FFFFFF;\n",
              "    }\n",
              "  </style>\n",
              "\n",
              "      <script>\n",
              "        const buttonEl =\n",
              "          document.querySelector('#df-3a7b46c3-6190-4601-879a-68df66823850 button.colab-df-convert');\n",
              "        buttonEl.style.display =\n",
              "          google.colab.kernel.accessAllowed ? 'block' : 'none';\n",
              "\n",
              "        async function convertToInteractive(key) {\n",
              "          const element = document.querySelector('#df-3a7b46c3-6190-4601-879a-68df66823850');\n",
              "          const dataTable =\n",
              "            await google.colab.kernel.invokeFunction('convertToInteractive',\n",
              "                                                     [key], {});\n",
              "          if (!dataTable) return;\n",
              "\n",
              "          const docLinkHtml = 'Like what you see? Visit the ' +\n",
              "            '<a target=\"_blank\" href=https://colab.research.google.com/notebooks/data_table.ipynb>data table notebook</a>'\n",
              "            + ' to learn more about interactive tables.';\n",
              "          element.innerHTML = '';\n",
              "          dataTable['output_type'] = 'display_data';\n",
              "          await google.colab.output.renderOutput(dataTable, element);\n",
              "          const docLink = document.createElement('div');\n",
              "          docLink.innerHTML = docLinkHtml;\n",
              "          element.appendChild(docLink);\n",
              "        }\n",
              "      </script>\n",
              "    </div>\n",
              "  </div>\n",
              "  "
            ],
            "text/plain": [
              "   Id  SepalLengthCm  SepalWidthCm  PetalLengthCm  PetalWidthCm      Species\n",
              "0   1            5.1           3.5            1.4           0.2  Iris-setosa\n",
              "1   2            4.9           3.0            1.4           0.2  Iris-setosa\n",
              "2   3            4.7           3.2            1.3           0.2  Iris-setosa\n",
              "3   4            4.6           3.1            1.5           0.2  Iris-setosa\n",
              "4   5            5.0           3.6            1.4           0.2  Iris-setosa"
            ]
          },
          "execution_count": 3,
          "metadata": {},
          "output_type": "execute_result"
        }
      ],
      "source": [
        "dataset.head()"
      ]
    },
    {
      "cell_type": "code",
      "execution_count": 4,
      "metadata": {
        "colab": {
          "base_uri": "https://localhost:8080/"
        },
        "id": "e-dDX9zeFgZ6",
        "outputId": "f2210474-a020-4840-e40f-f0201c5cf867"
      },
      "outputs": [
        {
          "name": "stdout",
          "output_type": "stream",
          "text": [
            "<class 'pandas.core.frame.DataFrame'>\n",
            "RangeIndex: 150 entries, 0 to 149\n",
            "Data columns (total 6 columns):\n",
            " #   Column         Non-Null Count  Dtype  \n",
            "---  ------         --------------  -----  \n",
            " 0   Id             150 non-null    int64  \n",
            " 1   SepalLengthCm  150 non-null    float64\n",
            " 2   SepalWidthCm   150 non-null    float64\n",
            " 3   PetalLengthCm  150 non-null    float64\n",
            " 4   PetalWidthCm   150 non-null    float64\n",
            " 5   Species        150 non-null    object \n",
            "dtypes: float64(4), int64(1), object(1)\n",
            "memory usage: 7.2+ KB\n"
          ]
        }
      ],
      "source": [
        "dataset.info()"
      ]
    },
    {
      "attachments": {},
      "cell_type": "markdown",
      "metadata": {},
      "source": [
        "### Data preprocessing"
      ]
    },
    {
      "cell_type": "code",
      "execution_count": 5,
      "metadata": {
        "id": "pCmT2p1CGlrs"
      },
      "outputs": [],
      "source": [
        "dataset.drop([\"Id\"],axis=1,inplace=True)"
      ]
    },
    {
      "cell_type": "code",
      "execution_count": 6,
      "metadata": {
        "id": "vj6bGQHpHYm3"
      },
      "outputs": [],
      "source": [
        "from sklearn.preprocessing import OrdinalEncoder\n",
        "\n",
        "encode = OrdinalEncoder()\n",
        "dataset['Species_num'] = encode.fit_transform(dataset[[\"Species\"]])\n"
      ]
    },
    {
      "cell_type": "code",
      "execution_count": 7,
      "metadata": {
        "colab": {
          "base_uri": "https://localhost:8080/"
        },
        "id": "1cAofy87IkRI",
        "outputId": "5cc78bde-2355-4030-c63b-158cffb73a9b"
      },
      "outputs": [
        {
          "data": {
            "text/plain": [
              "array(['Iris-setosa', 'Iris-versicolor', 'Iris-virginica'], dtype=object)"
            ]
          },
          "execution_count": 7,
          "metadata": {},
          "output_type": "execute_result"
        }
      ],
      "source": [
        "dataset.Species.unique()"
      ]
    },
    {
      "cell_type": "code",
      "execution_count": 8,
      "metadata": {
        "id": "Tde4rZrDK6F-"
      },
      "outputs": [],
      "source": [
        "dataset.drop([\"Species\"],axis=1,inplace=True)"
      ]
    },
    {
      "cell_type": "code",
      "execution_count": 9,
      "metadata": {
        "colab": {
          "base_uri": "https://localhost:8080/"
        },
        "id": "IxJRc2sVJEhI",
        "outputId": "7ccf6e5d-b3df-46a1-f874-da14c04cfbf3"
      },
      "outputs": [
        {
          "data": {
            "text/plain": [
              "array([0., 1., 2.])"
            ]
          },
          "execution_count": 9,
          "metadata": {},
          "output_type": "execute_result"
        }
      ],
      "source": [
        "dataset.Species_num.unique()"
      ]
    },
    {
      "cell_type": "code",
      "execution_count": 10,
      "metadata": {
        "id": "pj4z6STpJkyg"
      },
      "outputs": [],
      "source": [
        "X = dataset.iloc[:,:-1].values\n",
        "y = dataset.iloc[:,-1].values"
      ]
    },
    {
      "attachments": {},
      "cell_type": "markdown",
      "metadata": {},
      "source": [
        "## Splitting Data in Training and Test set"
      ]
    },
    {
      "cell_type": "code",
      "execution_count": 11,
      "metadata": {
        "id": "FYxgunspKWjJ"
      },
      "outputs": [],
      "source": [
        "from sklearn.model_selection import train_test_split\n",
        "\n",
        "X_train,X_test,y_train,y_test = train_test_split(X,y,random_state=0,test_size =0.2)"
      ]
    },
    {
      "cell_type": "code",
      "execution_count": 12,
      "metadata": {
        "id": "MkL8aE1hJzCK"
      },
      "outputs": [],
      "source": [
        "from sklearn.preprocessing  import StandardScaler\n",
        "sc = StandardScaler()\n",
        "\n",
        "X_train = sc.fit_transform(X_train)\n",
        "X_test = sc.transform(X_test)"
      ]
    },
    {
      "cell_type": "code",
      "execution_count": 13,
      "metadata": {
        "colab": {
          "base_uri": "https://localhost:8080/"
        },
        "id": "wES5kD7HM4g9",
        "outputId": "b75c8a49-6d52-4bc8-d472-083c95e1649e"
      },
      "outputs": [
        {
          "data": {
            "text/plain": [
              "array([[ 0.61303014,  0.10850105,  0.94751783,  0.73603967],\n",
              "       [-0.56776627, -0.12400121,  0.38491447,  0.34808318],\n",
              "       [-0.80392556,  1.03851009, -1.30289562, -1.3330616 ],\n",
              "       [ 0.25879121, -0.12400121,  0.60995581,  0.73603967],\n",
              "       [ 0.61303014, -0.58900572,  1.00377816,  1.25331499],\n",
              "       [-0.80392556, -0.82150798,  0.04735245,  0.21876435],\n",
              "       [-0.21352735,  1.73601687, -1.19037495, -1.20374277],\n",
              "       [ 0.14071157, -0.82150798,  0.72247648,  0.47740201],\n",
              "       [ 0.02263193, -0.12400121,  0.21613346,  0.34808318],\n",
              "       [-0.09544771, -1.05401024,  0.10361279, -0.03987331],\n",
              "       [ 1.0853487 , -0.12400121,  0.94751783,  1.12399616],\n",
              "       [-1.39432376,  0.34100331, -1.41541629, -1.3330616 ],\n",
              "       [ 1.20342834,  0.10850105,  0.72247648,  1.38263382],\n",
              "       [-1.04008484,  1.03851009, -1.24663528, -0.81578628],\n",
              "       [-0.56776627,  1.50351461, -1.30289562, -1.3330616 ],\n",
              "       [-1.04008484, -2.4490238 , -0.1776889 , -0.29851096],\n",
              "       [ 0.73110978, -0.12400121,  0.94751783,  0.73603967],\n",
              "       [ 0.96726906,  0.57350557,  1.0600385 ,  1.64127148],\n",
              "       [ 0.14071157, -1.98401928,  0.66621615,  0.34808318],\n",
              "       [ 0.96726906, -1.2865125 ,  1.11629884,  0.73603967],\n",
              "       [-0.33160699, -1.2865125 ,  0.04735245, -0.16919214],\n",
              "       [ 2.14806547, -0.12400121,  1.28507985,  1.38263382],\n",
              "       [ 0.49495049,  0.57350557,  0.49743514,  0.47740201],\n",
              "       [-0.44968663, -1.51901476, -0.00890789, -0.16919214],\n",
              "       [ 0.49495049, -0.82150798,  0.60995581,  0.73603967],\n",
              "       [ 0.49495049, -0.58900572,  0.72247648,  0.34808318],\n",
              "       [-1.15816448, -1.2865125 ,  0.38491447,  0.60672084],\n",
              "       [ 0.49495049, -1.2865125 ,  0.66621615,  0.8653585 ],\n",
              "       [ 1.32150798,  0.34100331,  0.49743514,  0.21876435],\n",
              "       [ 0.73110978, -0.12400121,  0.77873682,  0.99467733],\n",
              "       [ 0.14071157,  0.80600783,  0.38491447,  0.47740201],\n",
              "       [-1.27624412,  0.10850105, -1.24663528, -1.3330616 ],\n",
              "       [-0.09544771, -0.82150798,  0.72247648,  0.8653585 ],\n",
              "       [-0.33160699, -0.82150798,  0.21613346,  0.08944552],\n",
              "       [-0.33160699, -0.35650346, -0.12142856,  0.08944552],\n",
              "       [-0.44968663, -1.2865125 ,  0.10361279,  0.08944552],\n",
              "       [ 0.25879121, -0.12400121,  0.4411748 ,  0.21876435],\n",
              "       [ 1.55766726,  0.34100331,  1.22881951,  0.73603967],\n",
              "       [-0.68584591,  1.50351461, -1.30289562, -1.3330616 ],\n",
              "       [-1.86664232, -0.12400121, -1.52793696, -1.46238043],\n",
              "       [ 0.61303014, -0.82150798,  0.83499716,  0.8653585 ],\n",
              "       [-0.21352735, -0.12400121,  0.21613346, -0.03987331],\n",
              "       [-0.56776627,  0.80600783, -1.19037495, -1.3330616 ],\n",
              "       [-0.21352735,  3.13103043, -1.30289562, -1.07442394],\n",
              "       [ 1.20342834,  0.10850105,  0.60995581,  0.34808318],\n",
              "       [-1.5124034 ,  0.10850105, -1.30289562, -1.3330616 ],\n",
              "       [ 0.02263193, -0.12400121,  0.72247648,  0.73603967],\n",
              "       [-0.9220052 , -1.2865125 , -0.45899058, -0.16919214],\n",
              "       [-1.5124034 ,  0.80600783, -1.35915595, -1.20374277],\n",
              "       [ 0.37687085, -1.98401928,  0.38491447,  0.34808318],\n",
              "       [ 1.55766726,  1.27101235,  1.28507985,  1.64127148],\n",
              "       [-0.21352735, -0.35650346,  0.21613346,  0.08944552],\n",
              "       [-1.27624412, -0.12400121, -1.35915595, -1.46238043],\n",
              "       [ 1.43958762, -0.12400121,  1.17255917,  1.12399616],\n",
              "       [ 1.20342834,  0.34100331,  1.0600385 ,  1.38263382],\n",
              "       [ 0.73110978, -0.12400121,  1.11629884,  1.25331499],\n",
              "       [ 0.61303014, -0.58900572,  1.00377816,  1.12399616],\n",
              "       [-0.9220052 ,  1.73601687, -1.24663528, -1.3330616 ],\n",
              "       [-1.27624412,  0.80600783, -1.24663528, -1.3330616 ],\n",
              "       [ 0.73110978,  0.34100331,  0.72247648,  0.99467733],\n",
              "       [ 0.96726906,  0.57350557,  1.0600385 ,  1.12399616],\n",
              "       [-1.63048304, -1.75151702, -1.41541629, -1.20374277],\n",
              "       [ 0.37687085,  0.80600783,  0.89125749,  1.38263382],\n",
              "       [-1.15816448, -0.12400121, -1.35915595, -1.3330616 ],\n",
              "       [-0.21352735, -1.2865125 ,  0.66621615,  0.99467733],\n",
              "       [ 1.20342834,  0.10850105,  0.89125749,  1.12399616],\n",
              "       [-1.74856268,  0.34100331, -1.41541629, -1.3330616 ],\n",
              "       [-1.04008484,  1.27101235, -1.35915595, -1.3330616 ],\n",
              "       [ 1.55766726, -0.12400121,  1.11629884,  0.47740201],\n",
              "       [-0.9220052 ,  1.03851009, -1.35915595, -1.20374277],\n",
              "       [-1.74856268, -0.12400121, -1.41541629, -1.3330616 ],\n",
              "       [-0.56776627,  1.96851913, -1.19037495, -1.07442394],\n",
              "       [-0.44968663, -1.75151702,  0.10361279,  0.08944552],\n",
              "       [ 1.0853487 ,  0.34100331,  1.17255917,  1.38263382],\n",
              "       [ 2.02998583, -0.12400121,  1.56638153,  1.12399616],\n",
              "       [-0.9220052 ,  1.03851009, -1.35915595, -1.3330616 ],\n",
              "       [-1.15816448,  0.10850105, -1.30289562, -1.46238043],\n",
              "       [-0.80392556,  0.80600783, -1.35915595, -1.3330616 ],\n",
              "       [-0.21352735, -0.58900572,  0.38491447,  0.08944552],\n",
              "       [ 0.84918942, -0.12400121,  0.32865413,  0.21876435],\n",
              "       [-1.04008484,  0.34100331, -1.47167663, -1.3330616 ],\n",
              "       [-0.9220052 ,  0.57350557, -1.19037495, -0.94510511],\n",
              "       [ 0.61303014, -0.35650346,  0.27239379,  0.08944552],\n",
              "       [-0.56776627,  0.80600783, -1.30289562, -1.07442394],\n",
              "       [ 2.14806547, -1.05401024,  1.73516253,  1.38263382],\n",
              "       [-1.15816448, -1.51901476, -0.29020957, -0.29851096],\n",
              "       [ 2.38422475,  1.73601687,  1.45386085,  0.99467733],\n",
              "       [ 0.96726906,  0.10850105,  0.32865413,  0.21876435],\n",
              "       [-0.80392556,  2.43352365, -1.30289562, -1.46238043],\n",
              "       [ 0.14071157, -0.12400121,  0.55369548,  0.73603967],\n",
              "       [-0.09544771,  2.20102139, -1.47167663, -1.3330616 ],\n",
              "       [ 2.14806547, -0.58900572,  1.62264186,  0.99467733],\n",
              "       [-0.9220052 ,  1.73601687, -1.30289562, -1.20374277],\n",
              "       [-1.39432376,  0.34100331, -1.24663528, -1.3330616 ],\n",
              "       [ 1.79382654, -0.58900572,  1.28507985,  0.8653585 ],\n",
              "       [-1.04008484,  0.57350557, -1.35915595, -1.3330616 ],\n",
              "       [ 0.49495049,  0.80600783,  1.00377816,  1.51195265],\n",
              "       [-0.21352735, -0.58900572,  0.15987312,  0.08944552],\n",
              "       [-0.09544771, -0.82150798,  0.04735245, -0.03987331],\n",
              "       [-0.21352735, -1.05401024, -0.1776889 , -0.29851096],\n",
              "       [ 0.61303014,  0.34100331,  0.83499716,  1.38263382],\n",
              "       [ 0.96726906, -0.12400121,  0.77873682,  1.38263382],\n",
              "       [ 0.49495049, -1.2865125 ,  0.60995581,  0.34808318],\n",
              "       [ 0.96726906, -0.12400121,  0.66621615,  0.60672084],\n",
              "       [-1.04008484, -0.12400121, -1.24663528, -1.3330616 ],\n",
              "       [-0.44968663, -1.51901476, -0.06516822, -0.29851096],\n",
              "       [ 0.96726906,  0.10850105,  1.00377816,  1.51195265],\n",
              "       [-0.09544771, -0.82150798,  0.72247648,  0.8653585 ],\n",
              "       [-0.9220052 ,  0.80600783, -1.30289562, -1.3330616 ],\n",
              "       [ 0.84918942, -0.35650346,  0.4411748 ,  0.08944552],\n",
              "       [-0.33160699, -0.12400121,  0.15987312,  0.08944552],\n",
              "       [ 0.02263193,  0.34100331,  0.55369548,  0.73603967],\n",
              "       [ 0.49495049, -1.75151702,  0.32865413,  0.08944552],\n",
              "       [-0.44968663,  1.03851009, -1.41541629, -1.3330616 ],\n",
              "       [-0.9220052 ,  1.50351461, -1.30289562, -1.07442394],\n",
              "       [-1.15816448,  0.10850105, -1.30289562, -1.46238043],\n",
              "       [ 0.49495049, -0.35650346,  1.00377816,  0.73603967],\n",
              "       [-0.09544771, -0.82150798,  0.15987312, -0.29851096],\n",
              "       [ 2.14806547,  1.73601687,  1.62264186,  1.25331499],\n",
              "       [-1.5124034 ,  0.34100331, -1.35915595, -1.3330616 ]])"
            ]
          },
          "execution_count": 13,
          "metadata": {},
          "output_type": "execute_result"
        }
      ],
      "source": [
        "X_train"
      ]
    },
    {
      "attachments": {},
      "cell_type": "markdown",
      "metadata": {},
      "source": [
        "## Model Training (Random Forest Classifier)"
      ]
    },
    {
      "cell_type": "code",
      "execution_count": 14,
      "metadata": {
        "colab": {
          "base_uri": "https://localhost:8080/",
          "height": 74
        },
        "id": "XFVfnd99KIbB",
        "outputId": "83a22d1f-e8b5-453c-8110-ba705cf61fbe"
      },
      "outputs": [
        {
          "data": {
            "text/html": [
              "<style>#sk-container-id-1 {color: black;background-color: white;}#sk-container-id-1 pre{padding: 0;}#sk-container-id-1 div.sk-toggleable {background-color: white;}#sk-container-id-1 label.sk-toggleable__label {cursor: pointer;display: block;width: 100%;margin-bottom: 0;padding: 0.3em;box-sizing: border-box;text-align: center;}#sk-container-id-1 label.sk-toggleable__label-arrow:before {content: \"▸\";float: left;margin-right: 0.25em;color: #696969;}#sk-container-id-1 label.sk-toggleable__label-arrow:hover:before {color: black;}#sk-container-id-1 div.sk-estimator:hover label.sk-toggleable__label-arrow:before {color: black;}#sk-container-id-1 div.sk-toggleable__content {max-height: 0;max-width: 0;overflow: hidden;text-align: left;background-color: #f0f8ff;}#sk-container-id-1 div.sk-toggleable__content pre {margin: 0.2em;color: black;border-radius: 0.25em;background-color: #f0f8ff;}#sk-container-id-1 input.sk-toggleable__control:checked~div.sk-toggleable__content {max-height: 200px;max-width: 100%;overflow: auto;}#sk-container-id-1 input.sk-toggleable__control:checked~label.sk-toggleable__label-arrow:before {content: \"▾\";}#sk-container-id-1 div.sk-estimator input.sk-toggleable__control:checked~label.sk-toggleable__label {background-color: #d4ebff;}#sk-container-id-1 div.sk-label input.sk-toggleable__control:checked~label.sk-toggleable__label {background-color: #d4ebff;}#sk-container-id-1 input.sk-hidden--visually {border: 0;clip: rect(1px 1px 1px 1px);clip: rect(1px, 1px, 1px, 1px);height: 1px;margin: -1px;overflow: hidden;padding: 0;position: absolute;width: 1px;}#sk-container-id-1 div.sk-estimator {font-family: monospace;background-color: #f0f8ff;border: 1px dotted black;border-radius: 0.25em;box-sizing: border-box;margin-bottom: 0.5em;}#sk-container-id-1 div.sk-estimator:hover {background-color: #d4ebff;}#sk-container-id-1 div.sk-parallel-item::after {content: \"\";width: 100%;border-bottom: 1px solid gray;flex-grow: 1;}#sk-container-id-1 div.sk-label:hover label.sk-toggleable__label {background-color: #d4ebff;}#sk-container-id-1 div.sk-serial::before {content: \"\";position: absolute;border-left: 1px solid gray;box-sizing: border-box;top: 0;bottom: 0;left: 50%;z-index: 0;}#sk-container-id-1 div.sk-serial {display: flex;flex-direction: column;align-items: center;background-color: white;padding-right: 0.2em;padding-left: 0.2em;position: relative;}#sk-container-id-1 div.sk-item {position: relative;z-index: 1;}#sk-container-id-1 div.sk-parallel {display: flex;align-items: stretch;justify-content: center;background-color: white;position: relative;}#sk-container-id-1 div.sk-item::before, #sk-container-id-1 div.sk-parallel-item::before {content: \"\";position: absolute;border-left: 1px solid gray;box-sizing: border-box;top: 0;bottom: 0;left: 50%;z-index: -1;}#sk-container-id-1 div.sk-parallel-item {display: flex;flex-direction: column;z-index: 1;position: relative;background-color: white;}#sk-container-id-1 div.sk-parallel-item:first-child::after {align-self: flex-end;width: 50%;}#sk-container-id-1 div.sk-parallel-item:last-child::after {align-self: flex-start;width: 50%;}#sk-container-id-1 div.sk-parallel-item:only-child::after {width: 0;}#sk-container-id-1 div.sk-dashed-wrapped {border: 1px dashed gray;margin: 0 0.4em 0.5em 0.4em;box-sizing: border-box;padding-bottom: 0.4em;background-color: white;}#sk-container-id-1 div.sk-label label {font-family: monospace;font-weight: bold;display: inline-block;line-height: 1.2em;}#sk-container-id-1 div.sk-label-container {text-align: center;}#sk-container-id-1 div.sk-container {/* jupyter's `normalize.less` sets `[hidden] { display: none; }` but bootstrap.min.css set `[hidden] { display: none !important; }` so we also need the `!important` here to be able to override the default hidden behavior on the sphinx rendered scikit-learn.org. See: https://github.com/scikit-learn/scikit-learn/issues/21755 */display: inline-block !important;position: relative;}#sk-container-id-1 div.sk-text-repr-fallback {display: none;}</style><div id=\"sk-container-id-1\" class=\"sk-top-container\"><div class=\"sk-text-repr-fallback\"><pre>RandomForestClassifier(criterion=&#x27;entropy&#x27;, n_estimators=5, random_state=0)</pre><b>In a Jupyter environment, please rerun this cell to show the HTML representation or trust the notebook. <br />On GitHub, the HTML representation is unable to render, please try loading this page with nbviewer.org.</b></div><div class=\"sk-container\" hidden><div class=\"sk-item\"><div class=\"sk-estimator sk-toggleable\"><input class=\"sk-toggleable__control sk-hidden--visually\" id=\"sk-estimator-id-1\" type=\"checkbox\" checked><label for=\"sk-estimator-id-1\" class=\"sk-toggleable__label sk-toggleable__label-arrow\">RandomForestClassifier</label><div class=\"sk-toggleable__content\"><pre>RandomForestClassifier(criterion=&#x27;entropy&#x27;, n_estimators=5, random_state=0)</pre></div></div></div></div></div>"
            ],
            "text/plain": [
              "RandomForestClassifier(criterion='entropy', n_estimators=5, random_state=0)"
            ]
          },
          "execution_count": 14,
          "metadata": {},
          "output_type": "execute_result"
        }
      ],
      "source": [
        "from sklearn.ensemble import RandomForestClassifier\n",
        "classifier = RandomForestClassifier(n_estimators = 5,random_state=0,criterion='entropy')\n",
        "classifier.fit(X_train,y_train)"
      ]
    },
    {
      "cell_type": "code",
      "execution_count": 15,
      "metadata": {
        "colab": {
          "base_uri": "https://localhost:8080/"
        },
        "id": "BUMj38uRLquH",
        "outputId": "6c32ae40-560d-4d25-ae60-1cdb93857d50"
      },
      "outputs": [
        {
          "name": "stdout",
          "output_type": "stream",
          "text": [
            "[[11  0  0]\n",
            " [ 0 13  0]\n",
            " [ 0  1  5]]\n"
          ]
        },
        {
          "data": {
            "text/plain": [
              "0.9666666666666667"
            ]
          },
          "execution_count": 15,
          "metadata": {},
          "output_type": "execute_result"
        }
      ],
      "source": [
        "from sklearn.metrics import confusion_matrix,accuracy_score\n",
        "y_pred = classifier.predict(X_test)\n",
        "cm = confusion_matrix(y_test,y_pred)\n",
        "print(cm)\n",
        "accuracy_score(y_test,y_pred)"
      ]
    },
    {
      "attachments": {},
      "cell_type": "markdown",
      "metadata": {},
      "source": [
        "Accuracy is 96% (Good Model)"
      ]
    },
    {
      "cell_type": "code",
      "execution_count": 16,
      "metadata": {
        "colab": {
          "base_uri": "https://localhost:8080/"
        },
        "id": "f-nv0_MwMJ4x",
        "outputId": "7989f3d0-893b-475f-9b2b-1327e57b2f60"
      },
      "outputs": [
        {
          "name": "stdout",
          "output_type": "stream",
          "text": [
            "[2. 1. 0. 2. 0. 2. 0. 1. 1. 1. 1. 1. 1. 1. 1. 0. 1. 1. 0. 0. 2. 1. 0. 0.\n",
            " 2. 0. 0. 1. 1. 0.]\n"
          ]
        }
      ],
      "source": [
        "print(y_pred)"
      ]
    },
    {
      "cell_type": "code",
      "execution_count": 17,
      "metadata": {
        "colab": {
          "base_uri": "https://localhost:8080/"
        },
        "id": "wrkhYkK0MVNN",
        "outputId": "6a1bd32b-f062-4be1-8e5d-1b0981f2f18c"
      },
      "outputs": [
        {
          "data": {
            "text/plain": [
              "array([2., 1., 0., 2., 0., 2., 0., 1., 1., 1., 2., 1., 1., 1., 1., 0., 1.,\n",
              "       1., 0., 0., 2., 1., 0., 0., 2., 0., 0., 1., 1., 0.])"
            ]
          },
          "execution_count": 17,
          "metadata": {},
          "output_type": "execute_result"
        }
      ],
      "source": [
        "y_test"
      ]
    },
    {
      "attachments": {},
      "cell_type": "markdown",
      "metadata": {},
      "source": []
    },
    {
      "attachments": {},
      "cell_type": "markdown",
      "metadata": {},
      "source": [
        "## Model Training (SVM)"
      ]
    },
    {
      "cell_type": "code",
      "execution_count": 18,
      "metadata": {
        "colab": {
          "base_uri": "https://localhost:8080/",
          "height": 74
        },
        "id": "IAIrRjgaMbVn",
        "outputId": "9e737475-b9b7-4745-fb90-d4ccf0404589"
      },
      "outputs": [
        {
          "data": {
            "text/html": [
              "<style>#sk-container-id-2 {color: black;background-color: white;}#sk-container-id-2 pre{padding: 0;}#sk-container-id-2 div.sk-toggleable {background-color: white;}#sk-container-id-2 label.sk-toggleable__label {cursor: pointer;display: block;width: 100%;margin-bottom: 0;padding: 0.3em;box-sizing: border-box;text-align: center;}#sk-container-id-2 label.sk-toggleable__label-arrow:before {content: \"▸\";float: left;margin-right: 0.25em;color: #696969;}#sk-container-id-2 label.sk-toggleable__label-arrow:hover:before {color: black;}#sk-container-id-2 div.sk-estimator:hover label.sk-toggleable__label-arrow:before {color: black;}#sk-container-id-2 div.sk-toggleable__content {max-height: 0;max-width: 0;overflow: hidden;text-align: left;background-color: #f0f8ff;}#sk-container-id-2 div.sk-toggleable__content pre {margin: 0.2em;color: black;border-radius: 0.25em;background-color: #f0f8ff;}#sk-container-id-2 input.sk-toggleable__control:checked~div.sk-toggleable__content {max-height: 200px;max-width: 100%;overflow: auto;}#sk-container-id-2 input.sk-toggleable__control:checked~label.sk-toggleable__label-arrow:before {content: \"▾\";}#sk-container-id-2 div.sk-estimator input.sk-toggleable__control:checked~label.sk-toggleable__label {background-color: #d4ebff;}#sk-container-id-2 div.sk-label input.sk-toggleable__control:checked~label.sk-toggleable__label {background-color: #d4ebff;}#sk-container-id-2 input.sk-hidden--visually {border: 0;clip: rect(1px 1px 1px 1px);clip: rect(1px, 1px, 1px, 1px);height: 1px;margin: -1px;overflow: hidden;padding: 0;position: absolute;width: 1px;}#sk-container-id-2 div.sk-estimator {font-family: monospace;background-color: #f0f8ff;border: 1px dotted black;border-radius: 0.25em;box-sizing: border-box;margin-bottom: 0.5em;}#sk-container-id-2 div.sk-estimator:hover {background-color: #d4ebff;}#sk-container-id-2 div.sk-parallel-item::after {content: \"\";width: 100%;border-bottom: 1px solid gray;flex-grow: 1;}#sk-container-id-2 div.sk-label:hover label.sk-toggleable__label {background-color: #d4ebff;}#sk-container-id-2 div.sk-serial::before {content: \"\";position: absolute;border-left: 1px solid gray;box-sizing: border-box;top: 0;bottom: 0;left: 50%;z-index: 0;}#sk-container-id-2 div.sk-serial {display: flex;flex-direction: column;align-items: center;background-color: white;padding-right: 0.2em;padding-left: 0.2em;position: relative;}#sk-container-id-2 div.sk-item {position: relative;z-index: 1;}#sk-container-id-2 div.sk-parallel {display: flex;align-items: stretch;justify-content: center;background-color: white;position: relative;}#sk-container-id-2 div.sk-item::before, #sk-container-id-2 div.sk-parallel-item::before {content: \"\";position: absolute;border-left: 1px solid gray;box-sizing: border-box;top: 0;bottom: 0;left: 50%;z-index: -1;}#sk-container-id-2 div.sk-parallel-item {display: flex;flex-direction: column;z-index: 1;position: relative;background-color: white;}#sk-container-id-2 div.sk-parallel-item:first-child::after {align-self: flex-end;width: 50%;}#sk-container-id-2 div.sk-parallel-item:last-child::after {align-self: flex-start;width: 50%;}#sk-container-id-2 div.sk-parallel-item:only-child::after {width: 0;}#sk-container-id-2 div.sk-dashed-wrapped {border: 1px dashed gray;margin: 0 0.4em 0.5em 0.4em;box-sizing: border-box;padding-bottom: 0.4em;background-color: white;}#sk-container-id-2 div.sk-label label {font-family: monospace;font-weight: bold;display: inline-block;line-height: 1.2em;}#sk-container-id-2 div.sk-label-container {text-align: center;}#sk-container-id-2 div.sk-container {/* jupyter's `normalize.less` sets `[hidden] { display: none; }` but bootstrap.min.css set `[hidden] { display: none !important; }` so we also need the `!important` here to be able to override the default hidden behavior on the sphinx rendered scikit-learn.org. See: https://github.com/scikit-learn/scikit-learn/issues/21755 */display: inline-block !important;position: relative;}#sk-container-id-2 div.sk-text-repr-fallback {display: none;}</style><div id=\"sk-container-id-2\" class=\"sk-top-container\"><div class=\"sk-text-repr-fallback\"><pre>SVC(random_state=0)</pre><b>In a Jupyter environment, please rerun this cell to show the HTML representation or trust the notebook. <br />On GitHub, the HTML representation is unable to render, please try loading this page with nbviewer.org.</b></div><div class=\"sk-container\" hidden><div class=\"sk-item\"><div class=\"sk-estimator sk-toggleable\"><input class=\"sk-toggleable__control sk-hidden--visually\" id=\"sk-estimator-id-2\" type=\"checkbox\" checked><label for=\"sk-estimator-id-2\" class=\"sk-toggleable__label sk-toggleable__label-arrow\">SVC</label><div class=\"sk-toggleable__content\"><pre>SVC(random_state=0)</pre></div></div></div></div></div>"
            ],
            "text/plain": [
              "SVC(random_state=0)"
            ]
          },
          "execution_count": 18,
          "metadata": {},
          "output_type": "execute_result"
        }
      ],
      "source": [
        "from sklearn.svm import SVC\n",
        "classifier = SVC(kernel = 'rbf', random_state = 0)\n",
        "classifier.fit(X_train, y_train)"
      ]
    },
    {
      "cell_type": "code",
      "execution_count": 19,
      "metadata": {
        "colab": {
          "base_uri": "https://localhost:8080/"
        },
        "id": "q8TpzTXFMuxI",
        "outputId": "75c20124-97f0-455f-a714-1798c620455e"
      },
      "outputs": [
        {
          "name": "stdout",
          "output_type": "stream",
          "text": [
            "[[11  0  0]\n",
            " [ 0 13  0]\n",
            " [ 0  0  6]]\n"
          ]
        },
        {
          "data": {
            "text/plain": [
              "1.0"
            ]
          },
          "execution_count": 19,
          "metadata": {},
          "output_type": "execute_result"
        }
      ],
      "source": [
        "from sklearn.metrics import confusion_matrix, accuracy_score\n",
        "y_pred = classifier.predict(X_test)\n",
        "cm = confusion_matrix(y_test, y_pred)\n",
        "print(cm)\n",
        "accuracy_score(y_test, y_pred)"
      ]
    },
    {
      "attachments": {},
      "cell_type": "markdown",
      "metadata": {},
      "source": [
        "100% accuracy (Overfitted Model)"
      ]
    },
    {
      "cell_type": "code",
      "execution_count": 19,
      "metadata": {
        "id": "UnK3UunYMxj_"
      },
      "outputs": [],
      "source": []
    }
  ],
  "metadata": {
    "colab": {
      "provenance": []
    },
    "kernelspec": {
      "display_name": "Python 3",
      "name": "python3"
    },
    "language_info": {
      "name": "python"
    }
  },
  "nbformat": 4,
  "nbformat_minor": 0
}
